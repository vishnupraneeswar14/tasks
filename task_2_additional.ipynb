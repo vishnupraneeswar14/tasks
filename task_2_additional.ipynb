{
 "cells": [
  {
   "cell_type": "code",
   "execution_count": null,
   "id": "97e3715d-acfa-4e21-b1b2-75b1468d01ae",
   "metadata": {},
   "outputs": [],
   "source": [
    "from tensorflow.keras.layers import Input, Conv2D, MaxPooling2D\n",
    "from tensorflow.keras.layers import Dense, Flatten\n",
    "from tensorflow.keras.models import Model\n",
    "\n",
    "_input = Input((28,28,1)) \n",
    "\n",
    "conv1  = Conv2D(filters=64, kernel_size=(3,3), padding=\"same\", activation=\"relu\")(_input)\n",
    "conv2  = Conv2D(filters=64, kernel_size=(3,3), padding=\"same\", activation=\"relu\")(conv1)\n",
    "pool1  = MaxPooling2D((2, 2))(conv2)\n",
    "\n",
    "conv3  = Conv2D(filters=128, kernel_size=(3,3), padding=\"same\", activation=\"relu\")(pool1)\n",
    "conv4  = Conv2D(filters=128, kernel_size=(3,3), padding=\"same\", activation=\"relu\")(conv3)\n",
    "pool2  = MaxPooling2D((2, 2))(conv4)\n",
    "\n",
    "conv5  = Conv2D(filters=256, kernel_size=(3,3), padding=\"same\", activation=\"relu\")(pool2)\n",
    "conv6  = Conv2D(filters=256, kernel_size=(3,3), padding=\"same\", activation=\"relu\")(conv5)\n",
    "conv7  = Conv2D(filters=256, kernel_size=(3,3), padding=\"same\", activation=\"relu\")(conv6)\n",
    "conv8  = Conv2D(filters=256, kernel_size=(3,3), padding=\"same\", activation=\"relu\")(conv7)\n",
    "\n",
    "conv9  = Conv2D(filters=512, kernel_size=(3,3), padding=\"same\", activation=\"relu\")(conv8)\n",
    "conv10  = Conv2D(filters=512, kernel_size=(3,3), padding=\"same\", activation=\"relu\")(conv9)\n",
    "conv11  = Conv2D(filters=512, kernel_size=(3,3), padding=\"same\", activation=\"relu\")(conv10)\n",
    "conv12  = Conv2D(filters=512, kernel_size=(3,3), padding=\"same\", activation=\"relu\")(conv11)\n",
    "pool3  = MaxPooling2D((2, 2))(conv12) \n",
    "\n",
    "flat   = Flatten()(pool3)\n",
    "dense1 = Dense(4096, activation=\"relu\")(flat)\n",
    "dense2 = Dense(4096, activation=\"relu\")(dense1)\n",
    "output = Dense(len(train_generator.class_indices), activation=\"softmax\")(dense2)\n",
    "\n",
    "mod_1 = Model(inputs=_input, outputs=output)"
   ]
  },
  {
   "cell_type": "code",
   "execution_count": null,
   "id": "fa72f13e-4353-4172-889f-e8ee71259bc0",
   "metadata": {},
   "outputs": [],
   "source": [
    "mod_1=tf.keras.models.load_model('tensorflow_ocr_1.h5')"
   ]
  },
  {
   "cell_type": "code",
   "execution_count": null,
   "id": "268c930d-7fa1-4771-bc5f-05d1c5235a4c",
   "metadata": {},
   "outputs": [],
   "source": [
    "mod.compile(optimizer = tf.keras.optimizers.RMSprop(learning_rate=0.0001), loss = 'binary_crossentropy',metrics = ['acc'])\n",
    "\n",
    "\n",
    "history = mod.fit(\n",
    "    train_generator,\n",
    "    validation_data=validation_generator,\n",
    "    epochs=15\n",
    ")\n",
    "mod_1.save('tensorflow_ocr_1.h5')"
   ]
  },
  {
   "cell_type": "code",
   "execution_count": null,
   "id": "c9597ec9-0f0e-48db-b3f9-59dc27543260",
   "metadata": {},
   "outputs": [],
   "source": []
  }
 ],
 "metadata": {
  "kernelspec": {
   "display_name": "Python 3 (ipykernel)",
   "language": "python",
   "name": "python3"
  },
  "language_info": {
   "codemirror_mode": {
    "name": "ipython",
    "version": 3
   },
   "file_extension": ".py",
   "mimetype": "text/x-python",
   "name": "python",
   "nbconvert_exporter": "python",
   "pygments_lexer": "ipython3",
   "version": "3.12.2"
  }
 },
 "nbformat": 4,
 "nbformat_minor": 5
}
